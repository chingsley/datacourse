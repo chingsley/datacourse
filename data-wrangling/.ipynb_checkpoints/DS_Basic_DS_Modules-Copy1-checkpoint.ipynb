{
 "cells": [
  {
   "cell_type": "code",
   "execution_count": 2,
   "metadata": {},
   "outputs": [],
   "source": [
    "%matplotlib inline\n",
    "import matplotlib\n",
    "import seaborn as sns\n",
    "matplotlib.rcParams['savefig.dpi'] = 144"
   ]
  },
  {
   "cell_type": "code",
   "execution_count": 3,
   "metadata": {},
   "outputs": [],
   "source": [
    "import expectexception"
   ]
  },
  {
   "cell_type": "markdown",
   "metadata": {},
   "source": [
    "# Basic data tools: NumPy, Matplotlib, Pandas\n",
    "\n",
    "Python is a powerful and flexible programming language, but it doesn't have built-in tools for mathematical analysis or data visualization. For most data analysis we will rely on some helpful libraries. We'll explore three libraries that are very common for data analysis and visualization."
   ]
  },
  {
   "cell_type": "markdown",
   "metadata": {},
   "source": [
    "## NumPy\n",
    "\n",
    "First among these is NumPy. The main NumPy features are three-fold: its mathematical functions (e.g. `sin`, `log`, `floor`), its `random` submodule (useful for random sampling), and the NumPy `ndarray` object.\n",
    "\n",
    "A NumPy array is similar to a mathematical n-dimensional matrix. For example, \n",
    "\n",
    "$$\\begin{bmatrix}\n",
    "    x_{11} & x_{12} & x_{13} & \\dots  & x_{1n} \\\\\n",
    "    x_{21} & x_{22} & x_{23} & \\dots  & x_{2n} \\\\\n",
    "    \\vdots & \\vdots & \\vdots & \\ddots & \\vdots \\\\\n",
    "    x_{d1} & x_{d2} & x_{d3} & \\dots  & x_{dn}\n",
    "\\end{bmatrix}$$\n",
    "\n",
    "A NumPy array could be 1-dimensional (e.g. [1, 5, 20, 34, ...]), 2-dimensional (as above), or many dimensions. It's important to note that all the rows and columns of the 2-dimensional array are the same length. That will be true for all dimensions of arrays.\n",
    "\n",
    "Let's contrast this with lists."
   ]
  },
  {
   "cell_type": "code",
   "execution_count": 4,
   "metadata": {},
   "outputs": [],
   "source": [
    "# to access NumPy, we have to import it\n",
    "import numpy as np"
   ]
  },
  {
   "cell_type": "code",
   "execution_count": 5,
   "metadata": {},
   "outputs": [
    {
     "name": "stdout",
     "output_type": "stream",
     "text": [
      "[[1, 2, 3], [4, 5, 6], [7, 8, 9]]\n"
     ]
    }
   ],
   "source": [
    "list_of_lists = [[1, 2, 3], [4, 5, 6], [7, 8, 9]]\n",
    "print(list_of_lists)"
   ]
  },
  {
   "cell_type": "code",
   "execution_count": 6,
   "metadata": {},
   "outputs": [
    {
     "name": "stdout",
     "output_type": "stream",
     "text": [
      "[[1 2 3]\n",
      " [4 5 6]\n",
      " [7 8 9]]\n"
     ]
    }
   ],
   "source": [
    "an_array = np.array(list_of_lists)\n",
    "print(an_array)"
   ]
  },
  {
   "cell_type": "code",
   "execution_count": 15,
   "metadata": {},
   "outputs": [
    {
     "name": "stdout",
     "output_type": "stream",
     "text": [
      "[[0, 1, 2, 3, 4], [0, 1, 2, 3, 4], [0, 1, 2, 3, 4]]\n",
      "[[0 1 2 3 4]\n",
      " [0 1 2 3 4]\n",
      " [0 1 2 3 4]]\n",
      "int64\n",
      "(3, 5)\n"
     ]
    }
   ],
   "source": [
    "li = [list(range(5))] * 3\n",
    "print(li)\n",
    "arr = np.array(li)\n",
    "print(arr)\n",
    "print(arr.dtype)\n",
    "print(arr.shape)"
   ]
  },
  {
   "cell_type": "code",
   "execution_count": 11,
   "metadata": {},
   "outputs": [
    {
     "name": "stdout",
     "output_type": "stream",
     "text": [
      "[[1, 2], [3, 4, 5], [6, 7, 8, 9]]\n"
     ]
    }
   ],
   "source": [
    "non_rectangular = [[1, 2], [3, 4, 5], [6, 7, 8, 9]]\n",
    "print(non_rectangular)"
   ]
  },
  {
   "cell_type": "code",
   "execution_count": 12,
   "metadata": {},
   "outputs": [
    {
     "name": "stdout",
     "output_type": "stream",
     "text": [
      "[list([1, 2]) list([3, 4, 5]) list([6, 7, 8, 9])]\n"
     ]
    }
   ],
   "source": [
    "non_rectangular_array = np.array(non_rectangular)\n",
    "print(non_rectangular_array)"
   ]
  },
  {
   "cell_type": "markdown",
   "metadata": {},
   "source": [
    "Why did these print differently? Let's investigate their _shape_ and _data type_ (`dtype`)."
   ]
  },
  {
   "cell_type": "code",
   "execution_count": 13,
   "metadata": {},
   "outputs": [
    {
     "name": "stdout",
     "output_type": "stream",
     "text": [
      "(3, 3) int64\n",
      "(3,) object\n"
     ]
    }
   ],
   "source": [
    "print(an_array.shape, an_array.dtype)\n",
    "print(non_rectangular_array.shape, non_rectangular_array.dtype)"
   ]
  },
  {
   "cell_type": "markdown",
   "metadata": {},
   "source": [
    "The first case, `an_array`, is a 2-dimensional 3x3 array (of integers). In contrast, `non_rectangular_array` is a 1-dimensional length 3 array (of _objects_, namely `list` objects).\n",
    "\n",
    "We can also create a variety of arrays with NumPy's convenience functions."
   ]
  },
  {
   "cell_type": "code",
   "execution_count": 31,
   "metadata": {},
   "outputs": [
    {
     "data": {
      "text/plain": [
       "array([ 1.,  2.,  3.,  4.,  5.,  6.,  7.,  8.,  9., 10.])"
      ]
     },
     "execution_count": 31,
     "metadata": {},
     "output_type": "execute_result"
    }
   ],
   "source": [
    "np.linspace(1, 10, 10)"
   ]
  },
  {
   "cell_type": "code",
   "execution_count": 37,
   "metadata": {},
   "outputs": [
    {
     "data": {
      "text/plain": [
       "array([1, 2, 3, 4, 5, 6, 7, 8, 9])"
      ]
     },
     "execution_count": 37,
     "metadata": {},
     "output_type": "execute_result"
    }
   ],
   "source": [
    "np.arange(1, 10, 1)"
   ]
  },
  {
   "cell_type": "code",
   "execution_count": 46,
   "metadata": {},
   "outputs": [
    {
     "data": {
      "text/plain": [
       "array([1.e+01, 1.e+02, 1.e+03, 1.e+04, 1.e+05, 1.e+06, 1.e+07, 1.e+08,\n",
       "       1.e+09, 1.e+10])"
      ]
     },
     "execution_count": 46,
     "metadata": {},
     "output_type": "execute_result"
    }
   ],
   "source": [
    "np.logspace(1, 10, 10)"
   ]
  },
  {
   "cell_type": "code",
   "execution_count": 41,
   "metadata": {},
   "outputs": [
    {
     "data": {
      "text/plain": [
       "array([0., 0., 0., 0., 0., 0., 0., 0., 0., 0.])"
      ]
     },
     "execution_count": 41,
     "metadata": {},
     "output_type": "execute_result"
    }
   ],
   "source": [
    "np.zeros(10)"
   ]
  },
  {
   "cell_type": "code",
   "execution_count": 42,
   "metadata": {},
   "outputs": [
    {
     "data": {
      "text/plain": [
       "array([[1, 0, 0, 0],\n",
       "       [0, 2, 0, 0],\n",
       "       [0, 0, 3, 0],\n",
       "       [0, 0, 0, 4]])"
      ]
     },
     "execution_count": 42,
     "metadata": {},
     "output_type": "execute_result"
    }
   ],
   "source": [
    "np.diag([1,2,3,4])"
   ]
  },
  {
   "cell_type": "code",
   "execution_count": 43,
   "metadata": {},
   "outputs": [
    {
     "data": {
      "text/plain": [
       "array([[1., 0., 0., 0., 0.],\n",
       "       [0., 1., 0., 0., 0.],\n",
       "       [0., 0., 1., 0., 0.],\n",
       "       [0., 0., 0., 1., 0.],\n",
       "       [0., 0., 0., 0., 1.]])"
      ]
     },
     "execution_count": 43,
     "metadata": {},
     "output_type": "execute_result"
    }
   ],
   "source": [
    "np.eye(5)"
   ]
  },
  {
   "cell_type": "markdown",
   "metadata": {},
   "source": [
    "We can also convert the `dtype` of an array after creation."
   ]
  },
  {
   "cell_type": "code",
   "execution_count": 44,
   "metadata": {},
   "outputs": [
    {
     "name": "stdout",
     "output_type": "stream",
     "text": [
      "[1.e+01 1.e+02 1.e+03 1.e+04 1.e+05 1.e+06 1.e+07 1.e+08 1.e+09 1.e+10]\n",
      "float64\n",
      "[         10         100        1000       10000      100000     1000000\n",
      "    10000000   100000000  1000000000 10000000000]\n",
      "int64\n"
     ]
    }
   ],
   "source": [
    "print(np.logspace(1, 10, 10))\n",
    "print(np.logspace(1, 10, 10).dtype)\n",
    "print(np.logspace(1, 10, 10).astype(int))\n",
    "print(np.logspace(1, 10, 10).astype(int).dtype)"
   ]
  },
  {
   "cell_type": "markdown",
   "metadata": {},
   "source": [
    "Why does any of this matter?\n",
    "\n",
    "Arrays are often more efficient in terms of code as well as computational resources for certain calculations. Computationally this efficiency comes from the fact that we pre-allocate a contiguous block of memory for the results of our computation.\n",
    "\n",
    "To explore the advantages in code, let's try to do some math on these numbers.\n",
    "\n",
    "First let's simply calculate the sum of all the numbers and look at the differences in the necessary code for `list_of_lists`, `an_array`, and `non_rectangular_array`."
   ]
  },
  {
   "cell_type": "code",
   "execution_count": 47,
   "metadata": {},
   "outputs": [
    {
     "name": "stdout",
     "output_type": "stream",
     "text": [
      "45\n",
      "45\n"
     ]
    }
   ],
   "source": [
    "print(sum([sum(inner_list) for inner_list in list_of_lists]))\n",
    "print(an_array.sum())"
   ]
  },
  {
   "cell_type": "code",
   "execution_count": 53,
   "metadata": {},
   "outputs": [
    {
     "name": "stdout",
     "output_type": "stream",
     "text": [
      "[[0, 1, 2, 3, 4], [0, 1, 2, 3, 4], [0, 1, 2, 3, 4]]\n",
      "inner sum =  [10, 10, 10]\n",
      "sum_outer_li 30\n"
     ]
    }
   ],
   "source": [
    "li = [list(range(5))] * 3\n",
    "print(li)\n",
    "\n",
    "#sum all li\n",
    "sum_inner_li = [sum(list_) for list_ in li]\n",
    "print('inner sum = ', sum_inner_li)\n",
    "sum_outer_li = sum(sum_inner_li)\n",
    "print(\"sum_outer_li\", sum_outer_li)"
   ]
  },
  {
   "cell_type": "code",
   "execution_count": 58,
   "metadata": {},
   "outputs": [
    {
     "name": "stdout",
     "output_type": "stream",
     "text": [
      "[[0 1 2 3 4]\n",
      " [0 1 2 3 4]\n",
      " [0 1 2 3 4]]\n",
      "30\n",
      "[10 10 10]\n",
      "[ 0  3  6  9 12]\n"
     ]
    }
   ],
   "source": [
    "arr = np.array(li)\n",
    "print(arr)\n",
    "print(np.sum(arr))\n",
    "print(np.sum(arr, axis=1)) # sum each row\n",
    "print(np.sum(arr, axis=0)) # sum each column"
   ]
  },
  {
   "cell_type": "markdown",
   "metadata": {},
   "source": [
    "Summing the numbers in an array is much easier than for a list of lists. We don't have to dig into a hierarchy of lists, we just use the `sum` method of the `ndarray`. Does this still work for `non_rectangular_array`?"
   ]
  },
  {
   "cell_type": "code",
   "execution_count": 59,
   "metadata": {},
   "outputs": [
    {
     "name": "stdout",
     "output_type": "stream",
     "text": [
      "[1, 2, 3, 4, 5, 6, 7, 8, 9]\n"
     ]
    }
   ],
   "source": [
    "# what happens here?\n",
    "print(non_rectangular_array.sum())"
   ]
  },
  {
   "cell_type": "markdown",
   "metadata": {},
   "source": [
    "Remember `non_rectangular_array` is a 1-dimensional array of `list` objects. The `sum` method tries to add them together: first list + second list + third list. Addition of lists results in _concatenation_."
   ]
  },
  {
   "cell_type": "code",
   "execution_count": 60,
   "metadata": {},
   "outputs": [
    {
     "name": "stdout",
     "output_type": "stream",
     "text": [
      "[1, 2, 3, 4, 5, 6, 7, 8, 9]\n"
     ]
    }
   ],
   "source": [
    "# concatenate three lists\n",
    "print([1, 2] + [3, 4, 5] + [6, 7, 8, 9])"
   ]
  },
  {
   "cell_type": "markdown",
   "metadata": {},
   "source": [
    "The contrast becomes even more clear when we try to sum rows or columns individually."
   ]
  },
  {
   "cell_type": "code",
   "execution_count": 61,
   "metadata": {},
   "outputs": [
    {
     "name": "stdout",
     "output_type": "stream",
     "text": [
      "Array row sums:  [ 6 15 24]\n",
      "Array column sums:  [12 15 18]\n"
     ]
    }
   ],
   "source": [
    "print('Array row sums: ', an_array.sum(axis=1))\n",
    "print('Array column sums: ', an_array.sum(axis=0))"
   ]
  },
  {
   "cell_type": "code",
   "execution_count": null,
   "metadata": {},
   "outputs": [],
   "source": [
    "print('List of list row sums: ', [sum(inner_list) for inner_list in list_of_lists])\n",
    "\n",
    "def column_sum(list_of_lists):\n",
    "    running_sums = [0] * len(list_of_lists[0])\n",
    "    for inner_list in list_of_lists:\n",
    "        for i, number in enumerate(inner_list):\n",
    "            running_sums[i] += number\n",
    "            \n",
    "    return running_sums\n",
    "\n",
    "print('List of list column sums: ', column_sum(list_of_lists))"
   ]
  },
  {
   "cell_type": "markdown",
   "metadata": {},
   "source": [
    "Generally it is much more natural to do mathematical operations with arrays than lists."
   ]
  },
  {
   "cell_type": "code",
   "execution_count": 62,
   "metadata": {},
   "outputs": [
    {
     "name": "stdout",
     "output_type": "stream",
     "text": [
      "[ 6  7  8  9 10]\n",
      "[ 5 10 15 20 25]\n",
      "[0.2 0.4 0.6 0.8 1. ]\n"
     ]
    }
   ],
   "source": [
    "a = np.array([1, 2, 3, 4, 5])\n",
    "print(a + 5) # add a scalar\n",
    "print(a * 5) # multiply by a scalar\n",
    "print(a / 5) # divide by a scalar (note the float!)"
   ]
  },
  {
   "cell_type": "code",
   "execution_count": 76,
   "metadata": {},
   "outputs": [
    {
     "name": "stdout",
     "output_type": "stream",
     "text": [
      "[ 3  5  7  9 11]\n",
      "[ 2  6 12 20 30]\n",
      "[0.5        0.66666667 0.75       0.8        0.83333333]\n",
      "[[1. 2. 3. 4.]]\n",
      "[[1 2 3 4]]\n",
      "[1 2 3 4]\n",
      "[array([1, 2, 3, 4])]\n"
     ]
    }
   ],
   "source": [
    "b = a + 1\n",
    "print(a + b) # add together two arrays\n",
    "print(a * b) # multiply two arrays (element-wise)\n",
    "print(a / b.astype(float)) # divide two arrays (element-wise)\n",
    "c = np.array([range(1, 5)])\n",
    "print(c.astype(float))\n",
    "print(c)\n",
    "print(c[0])\n",
    "print(list(c))"
   ]
  },
  {
   "cell_type": "markdown",
   "metadata": {},
   "source": [
    "Arrays can also be used for linear algebra, acting as vectors, matrices, tensors, etc."
   ]
  },
  {
   "cell_type": "code",
   "execution_count": 77,
   "metadata": {},
   "outputs": [
    {
     "name": "stdout",
     "output_type": "stream",
     "text": [
      "70\n",
      "[[ 2  3  4  5  6]\n",
      " [ 4  6  8 10 12]\n",
      " [ 6  9 12 15 18]\n",
      " [ 8 12 16 20 24]\n",
      " [10 15 20 25 30]]\n"
     ]
    }
   ],
   "source": [
    "print(np.dot(a, b)) # inner product of two arrays\n",
    "print(np.outer(a, b)) # outer product of two arrays"
   ]
  },
  {
   "cell_type": "markdown",
   "metadata": {},
   "source": [
    "Arrays have a lot to offer us in terms of representing and analyzing data, since we can easily apply mathematical functions to data sets or sections of data sets. Most of the time we won't run into any trouble using arrays, but it's good to be mindful of the restrictions around shape and datatype.\n",
    "\n",
    "These restrictions around `shape` and `dtype` allow the `ndarray` objects to be much more performant compared to a general Python `list`.  There are few reasons for this, but the main two result from the typed nature of the `ndarray`, as this allows contiguous memory storage and consistent function lookup.  When a Python `list` is summed, Python needs to figure out at runtime the correct way in which to add each element of the list together.  When an `ndarray` is summed, `NumPy` already knows the type of the each element (and they are consistent), thus it can sum them without checking the correct add function for each element.\n",
    "\n",
    "Lets see this in action by doing some basic profiling.  First we will create a list of 100000 random elements and then time the sum function."
   ]
  },
  {
   "cell_type": "code",
   "execution_count": 83,
   "metadata": {},
   "outputs": [],
   "source": [
    "time_list = [np.random.random() for _ in range(100000)]\n",
    "time_arr = np.array(time_list)\n",
    "\n",
    "# [np.random.random() for i in range(3)]"
   ]
  },
  {
   "cell_type": "code",
   "execution_count": 82,
   "metadata": {},
   "outputs": [
    {
     "name": "stdout",
     "output_type": "stream",
     "text": [
      "496 µs ± 8.27 µs per loop (mean ± std. dev. of 7 runs, 1000 loops each)\n"
     ]
    }
   ],
   "source": [
    "%%timeit \n",
    "sum(time_list)"
   ]
  },
  {
   "cell_type": "code",
   "execution_count": 85,
   "metadata": {},
   "outputs": [
    {
     "name": "stdout",
     "output_type": "stream",
     "text": [
      "51.4 µs ± 1.65 µs per loop (mean ± std. dev. of 7 runs, 10000 loops each)\n"
     ]
    }
   ],
   "source": [
    "%%timeit\n",
    "np.sum(time_arr)"
   ]
  },
  {
   "cell_type": "markdown",
   "metadata": {},
   "source": [
    "### Universal functions\n",
    "\n",
    "`NumPy` defines a `ufunc` which allows it to efficiently run functions over arrays.  Many of these functions are built in, such as `np.cos`, and implemented in highly performance compiled `C` code.  These functions can perform `broadcasting` which allows them to automatically handle operations between arrays of different shapes, for example two arrays with the same shape, or an array and a scalar."
   ]
  },
  {
   "cell_type": "markdown",
   "metadata": {},
   "source": [
    "### Changing Shape\n",
    "\n",
    "Often we will want to take arrays that are one shape and transform them to a different shape more amenable to a specific operation."
   ]
  },
  {
   "cell_type": "code",
   "execution_count": 90,
   "metadata": {},
   "outputs": [
    {
     "name": "stdout",
     "output_type": "stream",
     "text": [
      "(20, 10)\n"
     ]
    },
    {
     "data": {
      "text/plain": [
       "array([[0.30013202, 0.31988589, 0.70281085, 0.3539013 , 0.01651985,\n",
       "        0.11340328, 0.46949463, 0.64408713, 0.98996464, 0.15671169],\n",
       "       [0.60598727, 0.73992412, 0.78259812, 0.54929923, 0.82916122,\n",
       "        0.76542134, 0.46749326, 0.2195876 , 0.95065772, 0.36372325],\n",
       "       [0.64535295, 0.84560779, 0.93700807, 0.32131002, 0.44344597,\n",
       "        0.73484313, 0.49462402, 0.7752698 , 0.31803281, 0.73404167],\n",
       "       [0.57453152, 0.77140863, 0.64965319, 0.16986167, 0.24171515,\n",
       "        0.58567581, 0.95798697, 0.28508591, 0.65932979, 0.1048266 ],\n",
       "       [0.53818612, 0.09255388, 0.66103336, 0.97252875, 0.09862511,\n",
       "        0.4921341 , 0.80620822, 0.2007283 , 0.22055766, 0.14837826],\n",
       "       [0.18931313, 0.75581331, 0.64946475, 0.44473428, 0.34590075,\n",
       "        0.80924561, 0.38657077, 0.98159656, 0.81216852, 0.89810581],\n",
       "       [0.4991151 , 0.01818655, 0.6155683 , 0.15006362, 0.63590611,\n",
       "        0.51155011, 0.76265574, 0.29221287, 0.80291901, 0.37579279],\n",
       "       [0.05372587, 0.61671118, 0.92958783, 0.28014295, 0.48297555,\n",
       "        0.06005492, 0.29151092, 0.91642084, 0.39161344, 0.11354686],\n",
       "       [0.16807616, 0.63400495, 0.8678574 , 0.72211612, 0.79475583,\n",
       "        0.72963234, 0.22264822, 0.15266698, 0.10574167, 0.44518987],\n",
       "       [0.66853355, 0.27321266, 0.87166582, 0.36756158, 0.74840449,\n",
       "        0.08394362, 0.34055319, 0.88717814, 0.87171485, 0.64664968],\n",
       "       [0.52766696, 0.02080358, 0.32528534, 0.96027262, 0.54317419,\n",
       "        0.32675584, 0.38656764, 0.49709514, 0.31525236, 0.47571896],\n",
       "       [0.52207347, 0.85057428, 0.55740785, 0.60334459, 0.19043032,\n",
       "        0.87665478, 0.81465386, 0.47576616, 0.28874363, 0.27457805],\n",
       "       [0.28196311, 0.88295548, 0.56230374, 0.43940036, 0.34669775,\n",
       "        0.11287326, 0.26828529, 0.5449807 , 0.5918007 , 0.5854131 ],\n",
       "       [0.11718685, 0.07403261, 0.64340942, 0.6573662 , 0.80370317,\n",
       "        0.00926911, 0.01288905, 0.18997872, 0.02100282, 0.34880101],\n",
       "       [0.93805629, 0.07725308, 0.86237154, 0.40826588, 0.93501752,\n",
       "        0.45763277, 0.84791712, 0.35775169, 0.58864609, 0.59602927],\n",
       "       [0.04430654, 0.14731421, 0.81002378, 0.76251283, 0.91328326,\n",
       "        0.7202765 , 0.65806472, 0.18476327, 0.73110478, 0.05345167],\n",
       "       [0.69154349, 0.43109209, 0.30801445, 0.99726946, 0.216235  ,\n",
       "        0.131965  , 0.29859622, 0.05798073, 0.58830877, 0.81753448],\n",
       "       [0.50492751, 0.14998903, 0.52570642, 0.53106963, 0.3877759 ,\n",
       "        0.34507816, 0.98381161, 0.21978878, 0.41777627, 0.52508757],\n",
       "       [0.1402329 , 0.18278054, 0.46217777, 0.2672589 , 0.2640422 ,\n",
       "        0.13049386, 0.45648903, 0.54692532, 0.47848187, 0.0244903 ],\n",
       "       [0.0152477 , 0.45453634, 0.33893081, 0.41211493, 0.02108877,\n",
       "        0.59512066, 0.35973454, 0.51126091, 0.05376372, 0.44032123]])"
      ]
     },
     "execution_count": 90,
     "metadata": {},
     "output_type": "execute_result"
    }
   ],
   "source": [
    "mat = np.random.rand(20, 10)\n",
    "print(mat.shape)\n",
    "mat"
   ]
  },
  {
   "cell_type": "code",
   "execution_count": 92,
   "metadata": {},
   "outputs": [
    {
     "name": "stdout",
     "output_type": "stream",
     "text": [
      "(40, 5)\n",
      "[[0.30013202 0.31988589 0.70281085 0.3539013  0.01651985]\n",
      " [0.11340328 0.46949463 0.64408713 0.98996464 0.15671169]\n",
      " [0.60598727 0.73992412 0.78259812 0.54929923 0.82916122]\n",
      " [0.76542134 0.46749326 0.2195876  0.95065772 0.36372325]\n",
      " [0.64535295 0.84560779 0.93700807 0.32131002 0.44344597]\n",
      " [0.73484313 0.49462402 0.7752698  0.31803281 0.73404167]\n",
      " [0.57453152 0.77140863 0.64965319 0.16986167 0.24171515]\n",
      " [0.58567581 0.95798697 0.28508591 0.65932979 0.1048266 ]\n",
      " [0.53818612 0.09255388 0.66103336 0.97252875 0.09862511]\n",
      " [0.4921341  0.80620822 0.2007283  0.22055766 0.14837826]\n",
      " [0.18931313 0.75581331 0.64946475 0.44473428 0.34590075]\n",
      " [0.80924561 0.38657077 0.98159656 0.81216852 0.89810581]\n",
      " [0.4991151  0.01818655 0.6155683  0.15006362 0.63590611]\n",
      " [0.51155011 0.76265574 0.29221287 0.80291901 0.37579279]\n",
      " [0.05372587 0.61671118 0.92958783 0.28014295 0.48297555]\n",
      " [0.06005492 0.29151092 0.91642084 0.39161344 0.11354686]\n",
      " [0.16807616 0.63400495 0.8678574  0.72211612 0.79475583]\n",
      " [0.72963234 0.22264822 0.15266698 0.10574167 0.44518987]\n",
      " [0.66853355 0.27321266 0.87166582 0.36756158 0.74840449]\n",
      " [0.08394362 0.34055319 0.88717814 0.87171485 0.64664968]\n",
      " [0.52766696 0.02080358 0.32528534 0.96027262 0.54317419]\n",
      " [0.32675584 0.38656764 0.49709514 0.31525236 0.47571896]\n",
      " [0.52207347 0.85057428 0.55740785 0.60334459 0.19043032]\n",
      " [0.87665478 0.81465386 0.47576616 0.28874363 0.27457805]\n",
      " [0.28196311 0.88295548 0.56230374 0.43940036 0.34669775]\n",
      " [0.11287326 0.26828529 0.5449807  0.5918007  0.5854131 ]\n",
      " [0.11718685 0.07403261 0.64340942 0.6573662  0.80370317]\n",
      " [0.00926911 0.01288905 0.18997872 0.02100282 0.34880101]\n",
      " [0.93805629 0.07725308 0.86237154 0.40826588 0.93501752]\n",
      " [0.45763277 0.84791712 0.35775169 0.58864609 0.59602927]\n",
      " [0.04430654 0.14731421 0.81002378 0.76251283 0.91328326]\n",
      " [0.7202765  0.65806472 0.18476327 0.73110478 0.05345167]\n",
      " [0.69154349 0.43109209 0.30801445 0.99726946 0.216235  ]\n",
      " [0.131965   0.29859622 0.05798073 0.58830877 0.81753448]\n",
      " [0.50492751 0.14998903 0.52570642 0.53106963 0.3877759 ]\n",
      " [0.34507816 0.98381161 0.21978878 0.41777627 0.52508757]\n",
      " [0.1402329  0.18278054 0.46217777 0.2672589  0.2640422 ]\n",
      " [0.13049386 0.45648903 0.54692532 0.47848187 0.0244903 ]\n",
      " [0.0152477  0.45453634 0.33893081 0.41211493 0.02108877]\n",
      " [0.59512066 0.35973454 0.51126091 0.05376372 0.44032123]]\n"
     ]
    }
   ],
   "source": [
    "reshaped_mat = mat.reshape(40, 5)\n",
    "print(reshaped_mat.shape)\n",
    "print(reshaped_mat)"
   ]
  },
  {
   "cell_type": "code",
   "execution_count": 93,
   "metadata": {},
   "outputs": [
    {
     "name": "stdout",
     "output_type": "stream",
     "text": [
      "\u001b[0;31m---------------------------------------------------------------------------\u001b[0m\n",
      "\u001b[0;31mValueError\u001b[0m                                Traceback (most recent call last)\n",
      "\u001b[0;32m<ipython-input-93-8f32a9a8072f>\u001b[0m in \u001b[0;36m<module>\u001b[0;34m()\u001b[0m\n",
      "\u001b[1;32m      1\u001b[0m \u001b[0;34m\u001b[0m\u001b[0m\n",
      "\u001b[0;32m----> 2\u001b[0;31m \u001b[0mmat\u001b[0m\u001b[0;34m.\u001b[0m\u001b[0mreshape\u001b[0m\u001b[0;34m(\u001b[0m\u001b[0;36m30\u001b[0m\u001b[0;34m,\u001b[0m \u001b[0;36m5\u001b[0m\u001b[0;34m)\u001b[0m\u001b[0;34m\u001b[0m\u001b[0;34m\u001b[0m\u001b[0m\n",
      "\u001b[0m\n",
      "\u001b[0;31mValueError\u001b[0m: cannot reshape array of size 200 into shape (30,5)\n"
     ]
    }
   ],
   "source": [
    "%%expect_exception ValueError\n",
    "\n",
    "mat.reshape(30, 5)"
   ]
  },
  {
   "cell_type": "code",
   "execution_count": 94,
   "metadata": {},
   "outputs": [
    {
     "data": {
      "text/plain": [
       "(200,)"
      ]
     },
     "execution_count": 94,
     "metadata": {},
     "output_type": "execute_result"
    }
   ],
   "source": [
    "mat.ravel().shape"
   ]
  },
  {
   "cell_type": "code",
   "execution_count": 97,
   "metadata": {},
   "outputs": [
    {
     "name": "stdout",
     "output_type": "stream",
     "text": [
      "[[0.30013202 0.60598727 0.64535295 0.57453152 0.53818612 0.18931313\n",
      "  0.4991151  0.05372587 0.16807616 0.66853355 0.52766696 0.52207347\n",
      "  0.28196311 0.11718685 0.93805629 0.04430654 0.69154349 0.50492751\n",
      "  0.1402329  0.0152477 ]\n",
      " [0.31988589 0.73992412 0.84560779 0.77140863 0.09255388 0.75581331\n",
      "  0.01818655 0.61671118 0.63400495 0.27321266 0.02080358 0.85057428\n",
      "  0.88295548 0.07403261 0.07725308 0.14731421 0.43109209 0.14998903\n",
      "  0.18278054 0.45453634]\n",
      " [0.70281085 0.78259812 0.93700807 0.64965319 0.66103336 0.64946475\n",
      "  0.6155683  0.92958783 0.8678574  0.87166582 0.32528534 0.55740785\n",
      "  0.56230374 0.64340942 0.86237154 0.81002378 0.30801445 0.52570642\n",
      "  0.46217777 0.33893081]\n",
      " [0.3539013  0.54929923 0.32131002 0.16986167 0.97252875 0.44473428\n",
      "  0.15006362 0.28014295 0.72211612 0.36756158 0.96027262 0.60334459\n",
      "  0.43940036 0.6573662  0.40826588 0.76251283 0.99726946 0.53106963\n",
      "  0.2672589  0.41211493]\n",
      " [0.01651985 0.82916122 0.44344597 0.24171515 0.09862511 0.34590075\n",
      "  0.63590611 0.48297555 0.79475583 0.74840449 0.54317419 0.19043032\n",
      "  0.34669775 0.80370317 0.93501752 0.91328326 0.216235   0.3877759\n",
      "  0.2640422  0.02108877]\n",
      " [0.11340328 0.76542134 0.73484313 0.58567581 0.4921341  0.80924561\n",
      "  0.51155011 0.06005492 0.72963234 0.08394362 0.32675584 0.87665478\n",
      "  0.11287326 0.00926911 0.45763277 0.7202765  0.131965   0.34507816\n",
      "  0.13049386 0.59512066]\n",
      " [0.46949463 0.46749326 0.49462402 0.95798697 0.80620822 0.38657077\n",
      "  0.76265574 0.29151092 0.22264822 0.34055319 0.38656764 0.81465386\n",
      "  0.26828529 0.01288905 0.84791712 0.65806472 0.29859622 0.98381161\n",
      "  0.45648903 0.35973454]\n",
      " [0.64408713 0.2195876  0.7752698  0.28508591 0.2007283  0.98159656\n",
      "  0.29221287 0.91642084 0.15266698 0.88717814 0.49709514 0.47576616\n",
      "  0.5449807  0.18997872 0.35775169 0.18476327 0.05798073 0.21978878\n",
      "  0.54692532 0.51126091]\n",
      " [0.98996464 0.95065772 0.31803281 0.65932979 0.22055766 0.81216852\n",
      "  0.80291901 0.39161344 0.10574167 0.87171485 0.31525236 0.28874363\n",
      "  0.5918007  0.02100282 0.58864609 0.73110478 0.58830877 0.41777627\n",
      "  0.47848187 0.05376372]\n",
      " [0.15671169 0.36372325 0.73404167 0.1048266  0.14837826 0.89810581\n",
      "  0.37579279 0.11354686 0.44518987 0.64664968 0.47571896 0.27457805\n",
      "  0.5854131  0.34880101 0.59602927 0.05345167 0.81753448 0.52508757\n",
      "  0.0244903  0.44032123]]\n"
     ]
    }
   ],
   "source": [
    "mat.transpose().shape\n",
    "print(mat.transpose())"
   ]
  },
  {
   "cell_type": "markdown",
   "metadata": {},
   "source": [
    "### Combining arrays"
   ]
  },
  {
   "cell_type": "code",
   "execution_count": 98,
   "metadata": {},
   "outputs": [
    {
     "name": "stdout",
     "output_type": "stream",
     "text": [
      "[1 2 3 4 5]\n",
      "[2 3 4 5 6]\n"
     ]
    }
   ],
   "source": [
    "print(a)\n",
    "print(b)"
   ]
  },
  {
   "cell_type": "code",
   "execution_count": 99,
   "metadata": {},
   "outputs": [
    {
     "data": {
      "text/plain": [
       "array([1, 2, 3, 4, 5, 2, 3, 4, 5, 6])"
      ]
     },
     "execution_count": 99,
     "metadata": {},
     "output_type": "execute_result"
    }
   ],
   "source": [
    "np.hstack((a, b))"
   ]
  },
  {
   "cell_type": "code",
   "execution_count": 100,
   "metadata": {},
   "outputs": [
    {
     "data": {
      "text/plain": [
       "array([[1, 2, 3, 4, 5],\n",
       "       [2, 3, 4, 5, 6]])"
      ]
     },
     "execution_count": 100,
     "metadata": {},
     "output_type": "execute_result"
    }
   ],
   "source": [
    "np.vstack((a, b))"
   ]
  },
  {
   "cell_type": "code",
   "execution_count": 108,
   "metadata": {},
   "outputs": [
    {
     "name": "stdout",
     "output_type": "stream",
     "text": [
      "[[1 2 3 4 5]\n",
      " [2 3 4 5 6]]\n",
      "(2, 5)\n"
     ]
    }
   ],
   "source": [
    "vstck = np.vstack((a, b))\n",
    "print(vstck)\n",
    "print(vstck.shape)"
   ]
  },
  {
   "cell_type": "code",
   "execution_count": 109,
   "metadata": {},
   "outputs": [
    {
     "data": {
      "text/plain": [
       "array([[[1, 2],\n",
       "        [2, 3],\n",
       "        [3, 4],\n",
       "        [4, 5],\n",
       "        [5, 6]]])"
      ]
     },
     "execution_count": 109,
     "metadata": {},
     "output_type": "execute_result"
    }
   ],
   "source": [
    "np.dstack((a, b))"
   ]
  },
  {
   "cell_type": "markdown",
   "metadata": {},
   "source": [
    "### Basic data aggregation\n",
    "\n",
    "Let's explore some more examples of using arrays, this time using NumPy's `random` submodule to create some \"fake data\". Simulating data is useful for testing and prototyping new techniques or code, and some algorithms even require random input."
   ]
  },
  {
   "cell_type": "code",
   "execution_count": 114,
   "metadata": {},
   "outputs": [],
   "source": [
    "np.random.seed(42)\n",
    "jan_coffee_sales = np.random.randint(25, 200, size=(4, 7))\n",
    "print(jan_coffee_sales)"
   ]
  },
  {
   "cell_type": "code",
   "execution_count": null,
   "metadata": {},
   "outputs": [],
   "source": [
    "# mean sales\n",
    "print('Mean coffees sold per day in January: %d' % jan_coffee_sales.mean())"
   ]
  },
  {
   "cell_type": "code",
   "execution_count": null,
   "metadata": {},
   "outputs": [],
   "source": [
    "# mean sales for Monday\n",
    "print('Mean coffees sold on Monday in January: %d' % jan_coffee_sales[:, 1].mean())"
   ]
  },
  {
   "cell_type": "code",
   "execution_count": null,
   "metadata": {},
   "outputs": [],
   "source": [
    "# day with most sales\n",
    "# remember we count dates from 1, not 0!\n",
    "print('Day with highest sales was January %d' % (jan_coffee_sales.argmax() + 1))"
   ]
  },
  {
   "cell_type": "code",
   "execution_count": null,
   "metadata": {},
   "outputs": [],
   "source": [
    "# is there a weekly periodicity?\n",
    "from fractions import Fraction\n",
    "\n",
    "normalized_sales = (jan_coffee_sales - jan_coffee_sales.mean()) / abs(jan_coffee_sales - jan_coffee_sales.mean()).max()\n",
    "frequencies = [Fraction.from_float(f).limit_denominator() for f in np.fft.fftfreq(normalized_sales.size)]\n",
    "power = np.abs(np.fft.fft(normalized_sales.ravel()))**2\n",
    "list(zip(frequencies, power))[:len(power) // 2]"
   ]
  },
  {
   "cell_type": "markdown",
   "metadata": {},
   "source": [
    "Some of the functions we used above do not exist in standard Python and are provided to us by NumPy. Additionally we see that we can use the shape of an array to help us compute statistics on a subset of our data (e.g. mean number of coffees sold on Mondays). But one of the most powerful things we can do to explore data is to simply visualize it."
   ]
  },
  {
   "cell_type": "markdown",
   "metadata": {},
   "source": [
    "## Matplotlib\n",
    "\n",
    "Matplotlib is the most popular Python plotting library. It allows us to visualize data quickly by providing a variety of types of graphs (e.g. bar, scatter, line, etc.). It also provides useful tools for arranging multiple images or image components within a figure, enabling us to build up more complex visualizations as we need to.\n",
    "\n",
    "Let's visualize some data! In the next cells, we'll generate some data. For now we'll be focusing on how the graphs are produced rather than how the data is made."
   ]
  },
  {
   "cell_type": "code",
   "execution_count": null,
   "metadata": {},
   "outputs": [],
   "source": [
    "import matplotlib.pyplot as plt"
   ]
  },
  {
   "cell_type": "code",
   "execution_count": null,
   "metadata": {},
   "outputs": [],
   "source": [
    "def gen_stock_price(days, initial_price):\n",
    "    # stock price grows or shrinks linearly\n",
    "    # not exceeding 10% per year (heuristic)\n",
    "    trend = initial_price * (np.arange(days) * .1 / 365 * np.random.rand() * np.random.choice([1, -1]) + 1)\n",
    "    # noise will be about 2%\n",
    "    noise = .02 * np.random.randn(len(trend)) * trend\n",
    "    return trend + noise\n",
    "\n",
    "days = 365\n",
    "initial_prices = [80, 70, 65]\n",
    "for price in initial_prices:\n",
    "    plt.plot(np.arange(-days, 0), gen_stock_price(days, price))\n",
    "plt.title('Stock price history for last %d days' % days)\n",
    "plt.xlabel('Time (days)')\n",
    "plt.ylabel('Price (USD)')\n",
    "plt.legend(['Company A', 'Company B', 'Company C'])"
   ]
  },
  {
   "cell_type": "code",
   "execution_count": null,
   "metadata": {},
   "outputs": [],
   "source": [
    "from scipy.stats import linregress\n",
    "\n",
    "def gen_football_team(n_players, mean_shoe, mean_jersey):\n",
    "    shoe_sizes = np.random.normal(size=n_players, loc=mean_shoe, scale=.15 * mean_shoe)\n",
    "    jersey_sizes = mean_jersey / mean_shoe * shoe_sizes + np.random.normal(size=n_players, scale=.05 * mean_jersey)\n",
    "\n",
    "    return shoe_sizes, jersey_sizes\n",
    "\n",
    "shoes, jerseys = gen_football_team(16, 11, 100)\n",
    "\n",
    "fig = plt.figure(figsize=(12, 6))\n",
    "fig.suptitle('Football team equipment profile')\n",
    "\n",
    "ax1 = plt.subplot(221)\n",
    "ax1.hist(shoes)\n",
    "ax1.set_xlabel('Shoe size')\n",
    "ax1.set_ylabel('Counts')\n",
    "\n",
    "ax2 = plt.subplot(223)\n",
    "ax2.hist(jerseys)\n",
    "ax2.set_xlabel('Chest size (cm)')\n",
    "ax2.set_ylabel('Counts')\n",
    "\n",
    "ax3 = plt.subplot(122)\n",
    "ax3.scatter(shoes, jerseys, label='Data')\n",
    "ax3.set_xlabel('Shoe size')\n",
    "ax3.set_ylabel('Chest size (cm)')\n",
    "\n",
    "fit_line = linregress(shoes, jerseys)\n",
    "ax3.plot(shoes, fit_line[1] + fit_line[0] * shoes, 'r', label='Line of best fit')\n",
    "\n",
    "handles, labels = ax3.get_legend_handles_labels()\n",
    "ax3.legend(handles[::-1], labels[::-1])"
   ]
  },
  {
   "cell_type": "code",
   "execution_count": null,
   "metadata": {},
   "outputs": [],
   "source": [
    "def gen_hourly_temps(days):\n",
    "    ndays = len(days)\n",
    "    seasonality = (-15 * np.cos((np.array(days) - 30) * 2.0 * np.pi / 365)).repeat(24) + 10\n",
    "    solar = -3 * np.cos(np.arange(24 * ndays) * 2.0 * np.pi / 24)\n",
    "    weather = np.interp(range(len(days) * 24), range(0, 24 * len(days), 24 * 2), 3 * np.random.randn(np.ceil(float(len(days)) / 2).astype(int)))\n",
    "    noise = .5 * np.random.randn(24 * len(days))\n",
    "\n",
    "    return seasonality + solar + weather + noise\n",
    "\n",
    "days = np.arange(365)\n",
    "hours = np.arange(days[0] * 24, (days[-1] + 1) * 24)\n",
    "plt.plot(hours, gen_hourly_temps(days))\n",
    "plt.title('Hourly temperatures')\n",
    "plt.xlabel('Time (hours since Jan. 1)')\n",
    "plt.ylabel('Temperature (C)')"
   ]
  },
  {
   "cell_type": "markdown",
   "metadata": {},
   "source": [
    "In the examples above we've made use of the ubiquitous `plot` command, `subplot` for arranging multiple plots in one image, and `hist` for creating histograms. We've also used both the \"state machine\" (i.e. using a sequence of `plt.method` commands) and \"object-oriented\" (i.e. creating figure objects and mutating them) plotting paradigms. The Matplotlib package is very flexible and the possibilities for visualizing data are mostly limited by imagination. A great way to explore Matplotlib and other data visualization packages is by consulting their [gallery pages](https://matplotlib.org/gallery.html)."
   ]
  },
  {
   "cell_type": "markdown",
   "metadata": {},
   "source": [
    "# Pandas\n",
    "\n",
    "NumPy is useful for handling data as it lets us efficiently apply functions to whole data sets or select pieces of them. However, it can be difficult to keep track of related data that might be stored in different arrays, or the meaning of data stored in different rows or columns of the same array.\n",
    "\n",
    "For example, in the previous section we had a 1-dimensional array for shoe sizes, and another 1-dimensional array for jersey sizes. If we wanted to look up the shoe and jersey size for a particular player, we'd have to remember his position in each array.\n",
    "\n",
    "Alternatively, we could combine the two 1-dimensional arrays to make a 2-dimensional array with `n_players` rows and two columns (one for shoe size, one for jersey size). But once we combine the data, we now have to remember which column is shoe size and which column is jersey size.\n",
    "\n",
    "The Pandas package introduces a very powerful tool for working with data in Python: the DataFrame. A DataFrame is a table. Each column represents a different type of data (sometimes called a **field**). The columns are named, so I could have a column called `'shoe_size'` and a column called `'jersey_size'`. I don't have to remember which column is which, because I can refer to them by name. Each row represents a different **record** or **entity** (e.g. player). I can also name the rows, so instead of remembering which row in my array corresponds with Ronaldinho, I can name the row 'Ronaldinho' and look up his shoe size and jersey size by name."
   ]
  },
  {
   "cell_type": "code",
   "execution_count": null,
   "metadata": {},
   "outputs": [],
   "source": [
    "import pandas as pd\n",
    "\n",
    "players = ['Ronaldinho', 'Pele', 'Lionel Messi', 'Zinedine Zidane', 'Didier Drogba', 'Ronaldo', 'Yaya Toure', \n",
    "           'Frank Rijkaard', 'Diego Maradona', 'Mohamed Aboutrika', \"Samuel Eto'o\", 'George Best', 'George Weah', \n",
    "           'Roberto Donadoni']\n",
    "shoes, jerseys = gen_football_team(len(players), 10, 100)\n",
    "\n",
    "df = pd.DataFrame({'shoe_size': shoes, 'jersey_size': jerseys}, index = players)\n",
    "\n",
    "df"
   ]
  },
  {
   "cell_type": "code",
   "execution_count": null,
   "metadata": {},
   "outputs": [],
   "source": [
    "# we can also make a dataframe using zip\n",
    "\n",
    "df = pd.DataFrame(list(zip(shoes, jerseys)), columns = ['shoe_size', 'jersey_size'], index = players)\n",
    "\n",
    "df"
   ]
  },
  {
   "cell_type": "markdown",
   "metadata": {},
   "source": [
    "The DataFrame has similarities to both a `dict` and a NumPy `ndarray`. For example, we can retrieve a column from the DataFrame by using its name, just like we would retrieve an item from a `dict` using its key."
   ]
  },
  {
   "cell_type": "code",
   "execution_count": null,
   "metadata": {},
   "outputs": [],
   "source": [
    "print(df['shoe_size'])"
   ]
  },
  {
   "cell_type": "markdown",
   "metadata": {},
   "source": [
    "And we can easily apply functions to the DataFrame, just like we would with a NumPy array."
   ]
  },
  {
   "cell_type": "code",
   "execution_count": null,
   "metadata": {},
   "outputs": [],
   "source": [
    "print(np.log(df))"
   ]
  },
  {
   "cell_type": "code",
   "execution_count": null,
   "metadata": {},
   "outputs": [],
   "source": [
    "df.mean()"
   ]
  },
  {
   "cell_type": "markdown",
   "metadata": {},
   "source": [
    "We'll explore applying functions and analyzing data in a DataFrame in more depth later on. First we need to know how to retrieve, add, and remove data from a DataFrame.\n",
    "\n",
    "We've already seen how to retrieve a column, what about retrieving a row? The most flexible syntax is to use the DataFrame's `loc` method."
   ]
  },
  {
   "cell_type": "code",
   "execution_count": null,
   "metadata": {},
   "outputs": [],
   "source": [
    "print(df.loc['Ronaldo'])"
   ]
  },
  {
   "cell_type": "code",
   "execution_count": null,
   "metadata": {},
   "outputs": [],
   "source": [
    "print(df.loc[['Ronaldo', 'George Best'], 'shoe_size'])"
   ]
  },
  {
   "cell_type": "code",
   "execution_count": null,
   "metadata": {},
   "outputs": [],
   "source": [
    "# can also select position-based slices of data\n",
    "print(df.loc['Ronaldo':'George Best', 'shoe_size'])"
   ]
  },
  {
   "cell_type": "code",
   "execution_count": null,
   "metadata": {},
   "outputs": [],
   "source": [
    "# for position-based indexing, we will typically use iloc\n",
    "print(df.iloc[:5])"
   ]
  },
  {
   "cell_type": "code",
   "execution_count": null,
   "metadata": {},
   "outputs": [],
   "source": [
    "print(df.iloc[2:4, 0])"
   ]
  },
  {
   "cell_type": "code",
   "execution_count": null,
   "metadata": {},
   "outputs": [],
   "source": [
    "# to see just the top of the DataFrame, use head\n",
    "df.head()"
   ]
  },
  {
   "cell_type": "code",
   "execution_count": null,
   "metadata": {},
   "outputs": [],
   "source": [
    "# of for the bottom use tail\n",
    "df.tail()"
   ]
  },
  {
   "cell_type": "markdown",
   "metadata": {},
   "source": [
    "Just as with a `dict`, we can add data to our DataFrame by simply using the same syntax as we would use to retrieve data, but matching it with an assignment."
   ]
  },
  {
   "cell_type": "code",
   "execution_count": null,
   "metadata": {},
   "outputs": [],
   "source": [
    "# adding a new column\n",
    "df['position'] = np.random.choice(['goaltender', 'defense', 'midfield', 'attack'], size=len(df))\n",
    "df.head()"
   ]
  },
  {
   "cell_type": "code",
   "execution_count": null,
   "metadata": {},
   "outputs": [],
   "source": [
    "# adding a new row\n",
    "df.loc['Dylan'] = {'jersey_size': 91, 'shoe_size': 9, 'position': 'midfield'}\n",
    "df.loc['Dylan']"
   ]
  },
  {
   "cell_type": "markdown",
   "metadata": {},
   "source": [
    "To delete data, we can use the DataFrame's `drop` method."
   ]
  },
  {
   "cell_type": "code",
   "execution_count": null,
   "metadata": {},
   "outputs": [],
   "source": [
    "df.drop('Dylan')"
   ]
  },
  {
   "cell_type": "code",
   "execution_count": null,
   "metadata": {},
   "outputs": [],
   "source": [
    "df.drop('position', axis=1)"
   ]
  },
  {
   "cell_type": "markdown",
   "metadata": {},
   "source": [
    "Notice when we executed `df.drop('position', axis=1)`, there was an entry for `Dylan` even though we had just executed `df.drop('Dylan')`. We have to be careful when using `drop`; many DataFrame functions return a _copy_ of the DataFrame. In order to make the change permanent, we either need to reassign `df` to the copy returned by `df.drop()` or we have to use the keyword `inplace`."
   ]
  },
  {
   "cell_type": "code",
   "execution_count": null,
   "metadata": {},
   "outputs": [],
   "source": [
    "df = df.drop('Dylan')\n",
    "print(df)"
   ]
  },
  {
   "cell_type": "code",
   "execution_count": null,
   "metadata": {},
   "outputs": [],
   "source": [
    "df.drop('position', axis=1, inplace=True)\n",
    "print(df)"
   ]
  },
  {
   "cell_type": "markdown",
   "metadata": {},
   "source": [
    "We'll explore Pandas in much more detail later in the course, since it has many powerful tools for data analysis. However, even with these tools you can already start to discover patterns in data and draw interesting conclusions."
   ]
  },
  {
   "cell_type": "markdown",
   "metadata": {},
   "source": [
    "*Copyright &copy; 2017 The Data Incubator.  All rights reserved.*"
   ]
  }
 ],
 "metadata": {
  "kernelspec": {
   "display_name": "Python 3",
   "language": "python",
   "name": "python3"
  },
  "language_info": {
   "codemirror_mode": {
    "name": "ipython",
    "version": 3
   },
   "file_extension": ".py",
   "mimetype": "text/x-python",
   "name": "python",
   "nbconvert_exporter": "python",
   "pygments_lexer": "ipython3",
   "version": "3.7.3"
  },
  "nbclean": true
 },
 "nbformat": 4,
 "nbformat_minor": 1
}
